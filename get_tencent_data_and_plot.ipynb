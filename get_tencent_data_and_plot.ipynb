{
 "cells": [
  {
   "cell_type": "code",
   "execution_count": 1,
   "id": "manual-silicon",
   "metadata": {},
   "outputs": [
    {
     "name": "stderr",
     "output_type": "stream",
     "text": [
      "2021-02-20 15:22:21,090 [open_context_base.py] _socket_reconnect_and_wait_ready:255: Start connecting: host=127.0.0.1; port=11111;\n",
      "2021-02-20 15:22:21,093 [open_context_base.py] on_connected:344: Connected : conn_id=1; \n",
      "2021-02-20 15:22:21,096 [open_context_base.py] _handle_init_connect:445: InitConnect ok: conn_id=1; info={'server_version': 500, 'login_user_id': 11293829, 'conn_id': 6768791875093523919, 'conn_key': '9A1ECB57C6928C18', 'conn_iv': 'CE15BEC4AF2CF66A', 'keep_alive_interval': 10, 'is_encrypt': False};\n"
     ]
    },
    {
     "name": "stdout",
     "output_type": "stream",
     "text": [
      "         code             time_key   open  close   high    low  pe_ratio  \\\n",
      "0    HK.00700  2019-09-11 00:00:00  339.8  344.8  346.6  338.2    36.405   \n",
      "1    HK.00700  2019-09-12 00:00:00  349.0  348.2  349.8  346.0    36.763   \n",
      "2    HK.00700  2019-09-13 00:00:00  348.8  348.4  349.4  345.4    36.784   \n",
      "3    HK.00700  2019-09-16 00:00:00  344.8  345.4  345.4  338.6    36.468   \n",
      "4    HK.00700  2019-09-17 00:00:00  342.0  342.4  344.2  339.4    36.153   \n",
      "..        ...                  ...    ...    ...    ...    ...       ...   \n",
      "352  HK.00700  2021-02-11 00:00:00  763.0  757.0  763.0  749.0    70.510   \n",
      "353  HK.00700  2021-02-16 00:00:00  762.5  745.0  766.5  741.0    69.392   \n",
      "354  HK.00700  2021-02-17 00:00:00  741.0  757.5  763.0  730.5    70.557   \n",
      "355  HK.00700  2021-02-18 00:00:00  767.0  747.5  775.5  745.0    69.625   \n",
      "356  HK.00700  2021-02-19 00:00:00  747.0  741.0  747.5  726.0    69.020   \n",
      "\n",
      "     turnover_rate    volume      turnover  change_rate  last_close  \n",
      "0          0.00165  15794903  5.437023e+09     1.471454       339.0  \n",
      "1          0.00160  15302176  5.348208e+09     0.986079       344.8  \n",
      "2          0.00104   9936410  3.471328e+09     0.057438       348.2  \n",
      "3          0.00245  23372263  8.009399e+09    -0.861079       348.4  \n",
      "4          0.00097   9225687  3.165508e+09    -0.868558       345.4  \n",
      "..             ...       ...           ...          ...         ...  \n",
      "352        0.00107  10260559  7.749505e+09    -0.525624       761.0  \n",
      "353        0.00246  23579965  1.773283e+10    -1.585205       757.0  \n",
      "354        0.00167  16036516  1.204488e+10     1.677852       745.0  \n",
      "355        0.00253  24241947  1.843508e+10    -1.320132       757.5  \n",
      "356        0.00235  22589560  1.668162e+10    -0.869565       747.5  \n",
      "\n",
      "[357 rows x 12 columns]\n",
      "HK.00700\n",
      "[344.8, 348.2, 348.4, 345.4, 342.4, 341.8, 337.2, 336.4, 334.6, 334.4, 327.2, 331.2, 328.2, 329.0, 323.8, 324.0, 321.6, 322.6, 317.0, 317.6, 323.6, 327.0, 327.6, 329.8, 329.8, 329.8, 323.6, 326.4, 318.8, 317.8, 315.4, 320.8, 315.8, 315.0, 319.6, 320.4, 326.4, 331.8, 332.8, 332.4, 326.0, 321.8, 329.0, 326.2, 318.6, 318.8, 328.8, 335.4, 334.4, 328.2, 332.4, 337.6, 334.4, 333.8, 336.8, 330.6, 331.8, 329.8, 327.4, 328.8, 334.4, 335.0, 335.6, 338.8, 347.8, 359.8, 358.6, 370.0, 376.4, 374.4, 374.0, 376.6, 375.6, 382.8, 382.0, 374.4, 381.2, 381.8, 376.2, 384.4, 380.8, 388.8, 397.4, 405.2, 399.2, 397.6, 398.8, 397.8, 394.8, 384.2, 389.8, 384.4, 384.6, 382.0, 373.8, 371.8, 378.8, 391.8, 391.0, 398.8, 401.2, 399.4, 407.8, 409.8, 415.2, 413.8, 415.4, 407.0, 410.2, 408.8, 399.8, 389.2, 400.4, 398.4, 398.0, 384.8, 388.4, 392.8, 392.8, 405.0, 394.6, 376.2, 381.8, 377.2, 362.4, 363.8, 340.6, 348.6, 332.8, 341.8, 358.4, 346.8, 364.0, 378.8, 380.6, 381.2, 375.4, 379.0, 373.2, 378.6, 375.2, 380.2, 386.4, 383.8, 390.2, 393.8, 393.8, 405.6, 408.4, 407.4, 399.4, 408.2, 410.4, 405.2, 411.8, 416.0, 415.8, 398.8, 404.8, 408.8, 406.0, 417.0, 433.8, 429.8, 428.4, 429.4, 421.2, 423.0, 430.0, 440.0, 433.4, 412.4, 416.6, 425.4, 420.0, 408.2, 410.4, 429.0, 430.4, 432.6, 435.0, 434.2, 430.0, 433.8, 446.2, 442.4, 441.0, 433.6, 448.8, 450.6, 458.0, 460.4, 474.2, 497.4, 490.8, 485.0, 486.0, 498.6, 518.5, 524.5, 520.0, 516.0, 543.0, 563.0, 546.5, 541.0, 525.0, 543.0, 513.0, 521.0, 522.5, 564.0, 539.0, 557.0, 528.0, 520.0, 543.5, 541.5, 535.0, 534.0, 539.0, 550.0, 561.0, 555.5, 527.5, 502.0, 513.5, 520.5, 510.0, 506.5, 504.5, 512.0, 506.0, 508.0, 518.0, 548.0, 544.5, 551.5, 558.0, 540.5, 530.5, 539.0, 545.0, 534.0, 518.0, 511.0, 508.5, 504.0, 506.0, 516.0, 529.5, 529.5, 534.5, 527.0, 525.0, 516.5, 511.5, 514.0, 505.0, 503.5, 506.0, 505.5, 511.5, 525.0, 527.5, 535.0, 535.0, 539.5, 557.0, 573.5, 552.0, 557.0, 561.5, 564.5, 566.5, 563.5, 561.5, 585.0, 601.0, 605.0, 591.0, 601.5, 598.0, 588.5, 625.0, 614.5, 622.5, 595.0, 551.0, 577.0, 602.0, 597.0, 581.5, 589.0, 573.0, 588.0, 586.0, 584.0, 573.0, 586.0, 583.0, 563.0, 578.0, 574.0, 589.0, 588.5, 583.5, 583.0, 585.0, 578.0, 588.0, 571.0, 560.0, 571.5, 583.0, 580.0, 572.0, 572.5, 571.0, 556.0, 519.0, 530.5, 559.5, 564.0, 572.5, 583.5, 596.5, 568.5, 573.0, 591.0, 590.0, 596.0, 629.5, 645.0, 657.0, 655.0, 679.5, 682.5, 691.0, 766.5, 718.5, 701.5, 681.0, 681.5, 712.0, 724.5, 736.0, 735.5, 733.0, 736.5, 740.5, 761.0, 757.0, 745.0, 757.5, 747.5, 741.0]\n",
      "All pages are finished!\n"
     ]
    },
    {
     "name": "stderr",
     "output_type": "stream",
     "text": [
      "2021-02-20 15:22:21,155 [network_manager.py] work:366: Close: conn_id=1\n"
     ]
    }
   ],
   "source": [
    "from futu import *\n",
    "quote_ctx = OpenQuoteContext(host='127.0.0.1', port=11111)\n",
    "ret, data, page_req_key = quote_ctx.request_history_kline('HK.00700', start='2019-09-11', end='2021-02-19', max_count=500)  # 每页500个，请求第一页\n",
    "if ret == RET_OK:\n",
    "    print(data)\n",
    "    print(data['code'][0])    # 取第一条的股票代码\n",
    "    print(data['close'].values.tolist())   # 第一页收盘价转为list\n",
    "else:\n",
    "    print('error:', data)\n",
    "print('All pages are finished!')\n",
    "quote_ctx.close() # 结束后记得关闭当条连接，防止连接条数用尽"
   ]
  },
  {
   "cell_type": "code",
   "execution_count": 2,
   "id": "square-mandate",
   "metadata": {},
   "outputs": [
    {
     "data": {
      "text/html": [
       "<div>\n",
       "<style scoped>\n",
       "    .dataframe tbody tr th:only-of-type {\n",
       "        vertical-align: middle;\n",
       "    }\n",
       "\n",
       "    .dataframe tbody tr th {\n",
       "        vertical-align: top;\n",
       "    }\n",
       "\n",
       "    .dataframe thead th {\n",
       "        text-align: right;\n",
       "    }\n",
       "</style>\n",
       "<table border=\"1\" class=\"dataframe\">\n",
       "  <thead>\n",
       "    <tr style=\"text-align: right;\">\n",
       "      <th></th>\n",
       "      <th>code</th>\n",
       "      <th>time_key</th>\n",
       "      <th>open</th>\n",
       "      <th>close</th>\n",
       "      <th>high</th>\n",
       "      <th>low</th>\n",
       "      <th>pe_ratio</th>\n",
       "      <th>turnover_rate</th>\n",
       "      <th>volume</th>\n",
       "      <th>turnover</th>\n",
       "      <th>change_rate</th>\n",
       "      <th>last_close</th>\n",
       "    </tr>\n",
       "  </thead>\n",
       "  <tbody>\n",
       "    <tr>\n",
       "      <th>0</th>\n",
       "      <td>HK.00700</td>\n",
       "      <td>2019-09-11 00:00:00</td>\n",
       "      <td>339.8</td>\n",
       "      <td>344.8</td>\n",
       "      <td>346.6</td>\n",
       "      <td>338.2</td>\n",
       "      <td>36.405</td>\n",
       "      <td>0.00165</td>\n",
       "      <td>15794903</td>\n",
       "      <td>5.437023e+09</td>\n",
       "      <td>1.471454</td>\n",
       "      <td>339.0</td>\n",
       "    </tr>\n",
       "    <tr>\n",
       "      <th>1</th>\n",
       "      <td>HK.00700</td>\n",
       "      <td>2019-09-12 00:00:00</td>\n",
       "      <td>349.0</td>\n",
       "      <td>348.2</td>\n",
       "      <td>349.8</td>\n",
       "      <td>346.0</td>\n",
       "      <td>36.763</td>\n",
       "      <td>0.00160</td>\n",
       "      <td>15302176</td>\n",
       "      <td>5.348208e+09</td>\n",
       "      <td>0.986079</td>\n",
       "      <td>344.8</td>\n",
       "    </tr>\n",
       "    <tr>\n",
       "      <th>2</th>\n",
       "      <td>HK.00700</td>\n",
       "      <td>2019-09-13 00:00:00</td>\n",
       "      <td>348.8</td>\n",
       "      <td>348.4</td>\n",
       "      <td>349.4</td>\n",
       "      <td>345.4</td>\n",
       "      <td>36.784</td>\n",
       "      <td>0.00104</td>\n",
       "      <td>9936410</td>\n",
       "      <td>3.471328e+09</td>\n",
       "      <td>0.057438</td>\n",
       "      <td>348.2</td>\n",
       "    </tr>\n",
       "    <tr>\n",
       "      <th>3</th>\n",
       "      <td>HK.00700</td>\n",
       "      <td>2019-09-16 00:00:00</td>\n",
       "      <td>344.8</td>\n",
       "      <td>345.4</td>\n",
       "      <td>345.4</td>\n",
       "      <td>338.6</td>\n",
       "      <td>36.468</td>\n",
       "      <td>0.00245</td>\n",
       "      <td>23372263</td>\n",
       "      <td>8.009399e+09</td>\n",
       "      <td>-0.861079</td>\n",
       "      <td>348.4</td>\n",
       "    </tr>\n",
       "    <tr>\n",
       "      <th>4</th>\n",
       "      <td>HK.00700</td>\n",
       "      <td>2019-09-17 00:00:00</td>\n",
       "      <td>342.0</td>\n",
       "      <td>342.4</td>\n",
       "      <td>344.2</td>\n",
       "      <td>339.4</td>\n",
       "      <td>36.153</td>\n",
       "      <td>0.00097</td>\n",
       "      <td>9225687</td>\n",
       "      <td>3.165508e+09</td>\n",
       "      <td>-0.868558</td>\n",
       "      <td>345.4</td>\n",
       "    </tr>\n",
       "    <tr>\n",
       "      <th>...</th>\n",
       "      <td>...</td>\n",
       "      <td>...</td>\n",
       "      <td>...</td>\n",
       "      <td>...</td>\n",
       "      <td>...</td>\n",
       "      <td>...</td>\n",
       "      <td>...</td>\n",
       "      <td>...</td>\n",
       "      <td>...</td>\n",
       "      <td>...</td>\n",
       "      <td>...</td>\n",
       "      <td>...</td>\n",
       "    </tr>\n",
       "    <tr>\n",
       "      <th>352</th>\n",
       "      <td>HK.00700</td>\n",
       "      <td>2021-02-11 00:00:00</td>\n",
       "      <td>763.0</td>\n",
       "      <td>757.0</td>\n",
       "      <td>763.0</td>\n",
       "      <td>749.0</td>\n",
       "      <td>70.510</td>\n",
       "      <td>0.00107</td>\n",
       "      <td>10260559</td>\n",
       "      <td>7.749505e+09</td>\n",
       "      <td>-0.525624</td>\n",
       "      <td>761.0</td>\n",
       "    </tr>\n",
       "    <tr>\n",
       "      <th>353</th>\n",
       "      <td>HK.00700</td>\n",
       "      <td>2021-02-16 00:00:00</td>\n",
       "      <td>762.5</td>\n",
       "      <td>745.0</td>\n",
       "      <td>766.5</td>\n",
       "      <td>741.0</td>\n",
       "      <td>69.392</td>\n",
       "      <td>0.00246</td>\n",
       "      <td>23579965</td>\n",
       "      <td>1.773283e+10</td>\n",
       "      <td>-1.585205</td>\n",
       "      <td>757.0</td>\n",
       "    </tr>\n",
       "    <tr>\n",
       "      <th>354</th>\n",
       "      <td>HK.00700</td>\n",
       "      <td>2021-02-17 00:00:00</td>\n",
       "      <td>741.0</td>\n",
       "      <td>757.5</td>\n",
       "      <td>763.0</td>\n",
       "      <td>730.5</td>\n",
       "      <td>70.557</td>\n",
       "      <td>0.00167</td>\n",
       "      <td>16036516</td>\n",
       "      <td>1.204488e+10</td>\n",
       "      <td>1.677852</td>\n",
       "      <td>745.0</td>\n",
       "    </tr>\n",
       "    <tr>\n",
       "      <th>355</th>\n",
       "      <td>HK.00700</td>\n",
       "      <td>2021-02-18 00:00:00</td>\n",
       "      <td>767.0</td>\n",
       "      <td>747.5</td>\n",
       "      <td>775.5</td>\n",
       "      <td>745.0</td>\n",
       "      <td>69.625</td>\n",
       "      <td>0.00253</td>\n",
       "      <td>24241947</td>\n",
       "      <td>1.843508e+10</td>\n",
       "      <td>-1.320132</td>\n",
       "      <td>757.5</td>\n",
       "    </tr>\n",
       "    <tr>\n",
       "      <th>356</th>\n",
       "      <td>HK.00700</td>\n",
       "      <td>2021-02-19 00:00:00</td>\n",
       "      <td>747.0</td>\n",
       "      <td>741.0</td>\n",
       "      <td>747.5</td>\n",
       "      <td>726.0</td>\n",
       "      <td>69.020</td>\n",
       "      <td>0.00235</td>\n",
       "      <td>22589560</td>\n",
       "      <td>1.668162e+10</td>\n",
       "      <td>-0.869565</td>\n",
       "      <td>747.5</td>\n",
       "    </tr>\n",
       "  </tbody>\n",
       "</table>\n",
       "<p>357 rows × 12 columns</p>\n",
       "</div>"
      ],
      "text/plain": [
       "         code             time_key   open  close   high    low  pe_ratio  \\\n",
       "0    HK.00700  2019-09-11 00:00:00  339.8  344.8  346.6  338.2    36.405   \n",
       "1    HK.00700  2019-09-12 00:00:00  349.0  348.2  349.8  346.0    36.763   \n",
       "2    HK.00700  2019-09-13 00:00:00  348.8  348.4  349.4  345.4    36.784   \n",
       "3    HK.00700  2019-09-16 00:00:00  344.8  345.4  345.4  338.6    36.468   \n",
       "4    HK.00700  2019-09-17 00:00:00  342.0  342.4  344.2  339.4    36.153   \n",
       "..        ...                  ...    ...    ...    ...    ...       ...   \n",
       "352  HK.00700  2021-02-11 00:00:00  763.0  757.0  763.0  749.0    70.510   \n",
       "353  HK.00700  2021-02-16 00:00:00  762.5  745.0  766.5  741.0    69.392   \n",
       "354  HK.00700  2021-02-17 00:00:00  741.0  757.5  763.0  730.5    70.557   \n",
       "355  HK.00700  2021-02-18 00:00:00  767.0  747.5  775.5  745.0    69.625   \n",
       "356  HK.00700  2021-02-19 00:00:00  747.0  741.0  747.5  726.0    69.020   \n",
       "\n",
       "     turnover_rate    volume      turnover  change_rate  last_close  \n",
       "0          0.00165  15794903  5.437023e+09     1.471454       339.0  \n",
       "1          0.00160  15302176  5.348208e+09     0.986079       344.8  \n",
       "2          0.00104   9936410  3.471328e+09     0.057438       348.2  \n",
       "3          0.00245  23372263  8.009399e+09    -0.861079       348.4  \n",
       "4          0.00097   9225687  3.165508e+09    -0.868558       345.4  \n",
       "..             ...       ...           ...          ...         ...  \n",
       "352        0.00107  10260559  7.749505e+09    -0.525624       761.0  \n",
       "353        0.00246  23579965  1.773283e+10    -1.585205       757.0  \n",
       "354        0.00167  16036516  1.204488e+10     1.677852       745.0  \n",
       "355        0.00253  24241947  1.843508e+10    -1.320132       757.5  \n",
       "356        0.00235  22589560  1.668162e+10    -0.869565       747.5  \n",
       "\n",
       "[357 rows x 12 columns]"
      ]
     },
     "execution_count": 2,
     "metadata": {},
     "output_type": "execute_result"
    }
   ],
   "source": [
    "data"
   ]
  },
  {
   "cell_type": "code",
   "execution_count": 3,
   "id": "decimal-winter",
   "metadata": {},
   "outputs": [
    {
     "data": {
      "text/plain": [
       "pandas.core.frame.DataFrame"
      ]
     },
     "execution_count": 3,
     "metadata": {},
     "output_type": "execute_result"
    }
   ],
   "source": [
    "type(data)"
   ]
  },
  {
   "cell_type": "code",
   "execution_count": 12,
   "id": "heard-internet",
   "metadata": {},
   "outputs": [
    {
     "data": {
      "text/plain": [
       "'2019-09-12 00:00:00'"
      ]
     },
     "execution_count": 12,
     "metadata": {},
     "output_type": "execute_result"
    }
   ],
   "source": [
    "data[\"time_key\"][1]"
   ]
  },
  {
   "cell_type": "code",
   "execution_count": 13,
   "id": "wrong-dominican",
   "metadata": {},
   "outputs": [
    {
     "data": {
      "text/plain": [
       "str"
      ]
     },
     "execution_count": 13,
     "metadata": {},
     "output_type": "execute_result"
    }
   ],
   "source": [
    "type(data[\"time_key\"][1])"
   ]
  },
  {
   "cell_type": "code",
   "execution_count": 14,
   "id": "spanish-trailer",
   "metadata": {},
   "outputs": [
    {
     "data": {
      "text/plain": [
       "'2019-09-12'"
      ]
     },
     "execution_count": 14,
     "metadata": {},
     "output_type": "execute_result"
    }
   ],
   "source": [
    "data[\"time_key\"][1][:-9]"
   ]
  },
  {
   "cell_type": "code",
   "execution_count": 37,
   "id": "charitable-distance",
   "metadata": {},
   "outputs": [
    {
     "data": {
      "text/plain": [
       "0      2019-09-11 00:00:00\n",
       "1      2019-09-12 00:00:00\n",
       "2      2019-09-13 00:00:00\n",
       "3      2019-09-16 00:00:00\n",
       "4      2019-09-17 00:00:00\n",
       "              ...         \n",
       "352    2021-02-11 00:00:00\n",
       "353    2021-02-16 00:00:00\n",
       "354    2021-02-17 00:00:00\n",
       "355    2021-02-18 00:00:00\n",
       "356    2021-02-19 00:00:00\n",
       "Name: time_key, Length: 357, dtype: object"
      ]
     },
     "execution_count": 37,
     "metadata": {},
     "output_type": "execute_result"
    }
   ],
   "source": [
    "time = data[\"time_key\"]\n",
    "time"
   ]
  },
  {
   "cell_type": "code",
   "execution_count": 38,
   "id": "spiritual-samoa",
   "metadata": {},
   "outputs": [
    {
     "data": {
      "text/plain": [
       "pandas.core.series.Series"
      ]
     },
     "execution_count": 38,
     "metadata": {},
     "output_type": "execute_result"
    }
   ],
   "source": [
    "type(time)"
   ]
  },
  {
   "cell_type": "code",
   "execution_count": 67,
   "id": "established-italy",
   "metadata": {},
   "outputs": [],
   "source": [
    "date = time.str.rstrip('\\000:0')#删掉结尾的空格、冒号以及数字0"
   ]
  },
  {
   "cell_type": "code",
   "execution_count": 68,
   "id": "developing-tokyo",
   "metadata": {},
   "outputs": [
    {
     "data": {
      "text/plain": [
       "0      2019-09-11 00:00:00\n",
       "1      2019-09-12 00:00:00\n",
       "2      2019-09-13 00:00:00\n",
       "3      2019-09-16 00:00:00\n",
       "4      2019-09-17 00:00:00\n",
       "              ...         \n",
       "352    2021-02-11 00:00:00\n",
       "353    2021-02-16 00:00:00\n",
       "354    2021-02-17 00:00:00\n",
       "355    2021-02-18 00:00:00\n",
       "356    2021-02-19 00:00:00\n",
       "Name: time_key, Length: 357, dtype: object"
      ]
     },
     "execution_count": 68,
     "metadata": {},
     "output_type": "execute_result"
    }
   ],
   "source": [
    "time"
   ]
  },
  {
   "cell_type": "code",
   "execution_count": 69,
   "id": "explicit-nancy",
   "metadata": {},
   "outputs": [
    {
     "data": {
      "text/plain": [
       "0      2019-09-11 \n",
       "1      2019-09-12 \n",
       "2      2019-09-13 \n",
       "3      2019-09-16 \n",
       "4      2019-09-17 \n",
       "          ...     \n",
       "352    2021-02-11 \n",
       "353    2021-02-16 \n",
       "354    2021-02-17 \n",
       "355    2021-02-18 \n",
       "356    2021-02-19 \n",
       "Name: time_key, Length: 357, dtype: object"
      ]
     },
     "execution_count": 69,
     "metadata": {},
     "output_type": "execute_result"
    }
   ],
   "source": [
    "date"
   ]
  },
  {
   "cell_type": "code",
   "execution_count": 78,
   "id": "innovative-fossil",
   "metadata": {},
   "outputs": [
    {
     "data": {
      "image/png": "[encoded data removed]",
      "text/plain": [
       "<Figure size 1080x720 with 1 Axes>"
      ]
     },
     "metadata": {
      "needs_background": "light"
     },
     "output_type": "display_data"
    }
   ],
   "source": [
    "import matplotlib.pyplot as plt\n",
    "plt.figure(figsize=(15, 10)) # Set the size\n",
    "plt.plot(date,data[\"close\"],linewidth=1,color='g',marker='o',markerfacecolor='blue',markersize=1) # use date\n",
    "plt.xlabel(\"Date\")\n",
    "plt.ylabel('Close price - QFQ') # 前复权\n",
    "plt.title(\"Tencent Stock Price\")\n",
    "# plt.legend()\n",
    "plt.grid()\n",
    "\n",
    "plt.xticks(rotation=60)    # 设置x轴标签旋转角度\n",
    "plt.gca().xaxis.set_major_locator(ticker.MultipleLocator(15))# 设置横轴标签间隔\n",
    "plt.savefig('./Tencent_stock_peice_since_20190911.jpg')\n",
    "plt.show()"
   ]
  },
  {
   "cell_type": "code",
   "execution_count": null,
   "id": "saving-kennedy",
   "metadata": {},
   "outputs": [],
   "source": []
  }
 ],
 "metadata": {
  "kernelspec": {
   "display_name": "Python 3",
   "language": "python",
   "name": "python3"
  },
  "language_info": {
   "codemirror_mode": {
    "name": "ipython",
    "version": 3
   },
   "file_extension": ".py",
   "mimetype": "text/x-python",
   "name": "python",
   "nbconvert_exporter": "python",
   "pygments_lexer": "ipython3",
   "version": "3.7.6"
  }
 },
 "nbformat": 4,
 "nbformat_minor": 5
}
