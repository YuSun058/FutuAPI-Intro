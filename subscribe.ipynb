{
 "cells": [
  {
   "cell_type": "code",
   "execution_count": 1,
   "id": "vocational-provider",
   "metadata": {},
   "outputs": [],
   "source": [
    "import time\n",
    "from futu import *\n"
   ]
  },
  {
   "cell_type": "code",
   "execution_count": 2,
   "id": "logical-inspection",
   "metadata": {},
   "outputs": [],
   "source": [
    "class OrderBookTest(OrderBookHandlerBase):\n",
    "    def on_recv_rsp(self, rsp_pb):\n",
    "        ret_code, data = super(OrderBookTest,self).on_recv_rsp(rsp_pb)\n",
    "        if ret_code != RET_OK:\n",
    "            print(\"OrderBookTest: error, msg: %s\" % data)\n",
    "            return RET_ERROR, data\n",
    "        print(\"OrderBookTest \", data) # OrderBookTest自己的处理逻辑\n",
    "        return RET_OK, data"
   ]
  },
  {
   "cell_type": "code",
   "execution_count": 3,
   "id": "hazardous-spread",
   "metadata": {},
   "outputs": [
    {
     "name": "stderr",
     "output_type": "stream",
     "text": [
      "2021-02-20 15:12:52,018 [open_context_base.py] _socket_reconnect_and_wait_ready:255: Start connecting: host=127.0.0.1; port=11111;\n",
      "2021-02-20 15:12:52,021 [open_context_base.py] on_connected:344: Connected : conn_id=1; \n",
      "2021-02-20 15:12:52,025 [open_context_base.py] _handle_init_connect:445: InitConnect ok: conn_id=1; info={'server_version': 500, 'login_user_id': 11293829, 'conn_id': 6768789488231948236, 'conn_key': 'D0C86654C692CC6D', 'conn_iv': '454655D0292C8612', 'keep_alive_interval': 10, 'is_encrypt': False};\n"
     ]
    },
    {
     "name": "stdout",
     "output_type": "stream",
     "text": [
      "OrderBookTest  {'code': 'HK.00700', 'svr_recv_time_bid': '', 'svr_recv_time_ask': '', 'Bid': [(741.0, 175700, 21, {}), (740.5, 63400, 19, {}), (740.0, 125900, 116, {}), (739.5, 34900, 16, {}), (739.0, 129700, 56, {}), (738.5, 54100, 28, {}), (738.0, 164700, 100, {}), (737.5, 237500, 43, {}), (737.0, 54700, 74, {}), (736.5, 25600, 29, {})], 'Ask': [(742.0, 100, 1, {}), (742.5, 5000, 1, {}), (743.0, 0, 0, {}), (743.5, 100, 1, {}), (744.0, 5500, 2, {}), (744.5, 900, 3, {}), (745.0, 64000, 30, {}), (745.5, 35900, 7, {}), (746.0, 14600, 21, {}), (746.5, 28400, 12, {})]}\n"
     ]
    },
    {
     "name": "stderr",
     "output_type": "stream",
     "text": [
      "2021-02-20 15:13:07,035 [network_manager.py] work:366: Close: conn_id=1\n"
     ]
    }
   ],
   "source": [
    "quote_ctx = OpenQuoteContext(host='127.0.0.1', port=11111)\n",
    "handler = OrderBookTest()\n",
    "quote_ctx.set_handler(handler)  # 设置实时摆盘回调\n",
    "quote_ctx.subscribe(['HK.00700'], [SubType.ORDER_BOOK])  # 订阅买卖摆盘类型，FutuOpenD开始持续收到服务器的推送\n",
    "time.sleep(15)  #  设置脚本接收FutuOpenD的推送持续时间为15秒\n",
    "quote_ctx.close()  # 关闭当条连接，FutuOpenD会在1分钟后自动取消相应股票相应类型的订阅"
   ]
  },
  {
   "cell_type": "code",
   "execution_count": null,
   "id": "intimate-school",
   "metadata": {},
   "outputs": [],
   "source": []
  }
 ],
 "metadata": {
  "kernelspec": {
   "display_name": "Python 3",
   "language": "python",
   "name": "python3"
  },
  "language_info": {
   "codemirror_mode": {
    "name": "ipython",
    "version": 3
   },
   "file_extension": ".py",
   "mimetype": "text/x-python",
   "name": "python",
   "nbconvert_exporter": "python",
   "pygments_lexer": "ipython3",
   "version": "3.7.6"
  }
 },
 "nbformat": 4,
 "nbformat_minor": 5
}
