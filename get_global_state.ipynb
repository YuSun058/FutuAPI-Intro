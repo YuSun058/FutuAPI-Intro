{
 "cells": [
  {
   "cell_type": "code",
   "execution_count": 1,
   "id": "challenging-action",
   "metadata": {},
   "outputs": [
    {
     "name": "stderr",
     "output_type": "stream",
     "text": [
      "2021-02-20 15:05:01,562 [open_context_base.py] _socket_reconnect_and_wait_ready:255: Start connecting: host=127.0.0.1; port=11111;\n",
      "2021-02-20 15:05:01,591 [open_context_base.py] on_connected:344: Connected : conn_id=1; \n",
      "2021-02-20 15:05:01,594 [open_context_base.py] _handle_init_connect:445: InitConnect ok: conn_id=1; info={'server_version': 500, 'login_user_id': 11293829, 'conn_id': 6768787515105740934, 'conn_key': '57F79851C6927832', 'conn_iv': 'DAED462BBB2BA6A0', 'keep_alive_interval': 10, 'is_encrypt': False};\n"
     ]
    },
    {
     "data": {
      "text/plain": [
       "(0,\n",
       " {'market_sz': 'CLOSED',\n",
       "  'market_us': 'AFTER_HOURS_END',\n",
       "  'market_sh': 'CLOSED',\n",
       "  'market_hk': 'CLOSED',\n",
       "  'market_hkfuture': 'NIGHT_END',\n",
       "  'market_usfuture': 'FUTURE_CLOSE',\n",
       "  'server_ver': '500',\n",
       "  'trd_logined': True,\n",
       "  'timestamp': '1613804702',\n",
       "  'qot_logined': True,\n",
       "  'local_timestamp': 1613804701.602895,\n",
       "  'program_status_type': 'READY',\n",
       "  'program_status_desc': ''})"
      ]
     },
     "execution_count": 1,
     "metadata": {},
     "output_type": "execute_result"
    }
   ],
   "source": [
    "from futu import *\n",
    "quote_ctx = OpenQuoteContext(host='127.0.0.1', port=11111) # 创建并初始化行情连接\n",
    "quote_ctx.get_global_state()"
   ]
  },
  {
   "cell_type": "markdown",
   "id": "funny-familiar",
   "metadata": {},
   "source": [
    "$x^2$"
   ]
  },
  {
   "cell_type": "code",
   "execution_count": 3,
   "id": "vocational-receptor",
   "metadata": {},
   "outputs": [],
   "source": [
    "quote_ctx.close() # 结束后记得关闭当条连接，防止连接条数用尽"
   ]
  },
  {
   "cell_type": "code",
   "execution_count": null,
   "id": "strategic-gallery",
   "metadata": {},
   "outputs": [],
   "source": []
  }
 ],
 "metadata": {
  "kernelspec": {
   "display_name": "Python 3",
   "language": "python",
   "name": "python3"
  },
  "language_info": {
   "codemirror_mode": {
    "name": "ipython",
    "version": 3
   },
   "file_extension": ".py",
   "mimetype": "text/x-python",
   "name": "python",
   "nbconvert_exporter": "python",
   "pygments_lexer": "ipython3",
   "version": "3.7.6"
  }
 },
 "nbformat": 4,
 "nbformat_minor": 5
}
