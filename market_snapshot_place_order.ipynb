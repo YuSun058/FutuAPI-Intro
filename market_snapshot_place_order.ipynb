{
 "cells": [
  {
   "cell_type": "code",
   "execution_count": 1,
   "id": "architectural-radiation",
   "metadata": {},
   "outputs": [
    {
     "name": "stderr",
     "output_type": "stream",
     "text": [
      "2021-02-20 14:58:53,784 [open_context_base.py] _socket_reconnect_and_wait_ready:255: Start connecting: host=127.0.0.1; port=11111;\n",
      "2021-02-20 14:58:53,787 [open_context_base.py] on_connected:344: Connected : conn_id=1; \n",
      "2021-02-20 14:58:53,790 [open_context_base.py] _handle_init_connect:445: InitConnect ok: conn_id=1; info={'server_version': 500, 'login_user_id': 11293829, 'conn_id': 6768785972422703508, 'conn_key': 'EBBD674FC692C894', 'conn_iv': '72F431EA612B768A', 'keep_alive_interval': 10, 'is_encrypt': False};\n"
     ]
    },
    {
     "name": "stdout",
     "output_type": "stream",
     "text": [
      "(0,        code          update_time  last_price  open_price  high_price  \\\n",
      "0  HK.00700  2021-02-19 16:08:41       741.0       747.0       747.5   \n",
      "\n",
      "   low_price  prev_close_price    volume      turnover  turnover_rate  ...  \\\n",
      "0      726.0             747.5  22589560  1.668162e+10          0.235  ...   \n",
      "\n",
      "   pre_turnover pre_change_val  pre_change_rate  pre_amplitude  after_price  \\\n",
      "0           N/A            N/A              N/A            N/A          N/A   \n",
      "\n",
      "   after_high_price  after_low_price  after_change_val  after_change_rate  \\\n",
      "0               N/A              N/A               N/A                N/A   \n",
      "\n",
      "   after_amplitude  \n",
      "0              N/A  \n",
      "\n",
      "[1 rows x 133 columns])\n"
     ]
    },
    {
     "name": "stderr",
     "output_type": "stream",
     "text": [
      "2021-02-20 14:58:53,828 [network_manager.py] work:366: Close: conn_id=1\n"
     ]
    }
   ],
   "source": [
    "from futu import *\n",
    "\n",
    "quote_ctx = OpenQuoteContext(host='127.0.0.1', port=11111)  # 创建行情对象\n",
    "print(quote_ctx.get_market_snapshot('HK.00700'))  # 获取港股 HK.00700 的快照数据\n",
    "quote_ctx.close() # 关闭对象，防止连接条数用尽"
   ]
  },
  {
   "cell_type": "code",
   "execution_count": 2,
   "id": "hearing-nature",
   "metadata": {},
   "outputs": [
    {
     "name": "stderr",
     "output_type": "stream",
     "text": [
      "2021-02-20 14:59:29,791 [open_context_base.py] _socket_reconnect_and_wait_ready:255: Start connecting: host=127.0.0.1; port=11111;\n",
      "2021-02-20 14:59:29,792 [open_context_base.py] on_connected:344: Connected : conn_id=2; \n",
      "2021-02-20 14:59:29,795 [open_context_base.py] _handle_init_connect:445: InitConnect ok: conn_id=2; info={'server_version': 500, 'login_user_id': 11293829, 'conn_id': 6768786123439729712, 'conn_key': '0BAE9E4FC6922001', 'conn_iv': 'D11118E36A2BD654', 'keep_alive_interval': 10, 'is_encrypt': False};\n"
     ]
    },
    {
     "name": "stdout",
     "output_type": "stream",
     "text": [
      "(0,        code stock_name trd_side order_type order_status             order_id  \\\n",
      "0  HK.00700       腾讯控股      BUY     NORMAL   SUBMITTING  2670830055561087363   \n",
      "\n",
      "     qty  price          create_time         updated_time  dealt_qty  \\\n",
      "0  100.0  500.0  2021-02-20 14:59:31  2021-02-20 14:59:31        0.0   \n",
      "\n",
      "   dealt_avg_price last_err_msg remark time_in_force fill_outside_rth  \n",
      "0              0.0                               DAY              N/A  )\n"
     ]
    },
    {
     "name": "stderr",
     "output_type": "stream",
     "text": [
      "2021-02-20 14:59:29,871 [network_manager.py] work:366: Close: conn_id=2\n"
     ]
    }
   ],
   "source": [
    "trd_ctx = OpenHKTradeContext(host='127.0.0.1', port=11111)  # 创建交易对象\n",
    "print(trd_ctx.place_order(price=500.0, qty=100, code=\"HK.00700\", trd_side=TrdSide.BUY, trd_env=TrdEnv.SIMULATE))  # 模拟交易，下单（如果是真实环境交易，在此之前需要先解锁交易密码）\n",
    "\n",
    "trd_ctx.close()  # 关闭对象，防止连接条数用尽"
   ]
  },
  {
   "cell_type": "code",
   "execution_count": null,
   "id": "banner-cherry",
   "metadata": {},
   "outputs": [],
   "source": []
  }
 ],
 "metadata": {
  "kernelspec": {
   "display_name": "Python 3",
   "language": "python",
   "name": "python3"
  },
  "language_info": {
   "codemirror_mode": {
    "name": "ipython",
    "version": 3
   },
   "file_extension": ".py",
   "mimetype": "text/x-python",
   "name": "python",
   "nbconvert_exporter": "python",
   "pygments_lexer": "ipython3",
   "version": "3.7.6"
  }
 },
 "nbformat": 4,
 "nbformat_minor": 5
}
